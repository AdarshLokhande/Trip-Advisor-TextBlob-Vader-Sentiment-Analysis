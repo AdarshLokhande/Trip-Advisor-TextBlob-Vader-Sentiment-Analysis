{
 "cells": [
  {
   "cell_type": "markdown",
   "id": "d58a1a3c-b583-465f-bfb0-94d7802628a4",
   "metadata": {},
   "source": [
    "TextBlob is a Python library for processing textual data\n",
    "As TextBlob is a Lexicon-based sentiment analyzer It has some predefined rules or we can say word and weight dictionary, where it has some scores that help to calculate a sentence's polarity. That's why the Lexicon-based sentiment analyzers are also called “Rule-based sentiment analyzers\""
   ]
  },
  {
   "cell_type": "markdown",
   "id": "e5c58560-70ed-4e1c-99f6-607865cc466a",
   "metadata": {},
   "source": [
    "VADER is another Lexicon-based sentiment analyzer that has pre-defined rules for words or lexicons. VADER not only tells the lexicon is positive, negative, or neutral, it also tells how positive, negative, or neutral a sentence is."
   ]
  },
  {
   "cell_type": "markdown",
   "id": "1447767a-af63-4098-b133-7b17df663e1b",
   "metadata": {},
   "source": [
    "WordCloud is a pictorial presentation of most frequent words"
   ]
  },
  {
   "cell_type": "code",
   "execution_count": 1,
   "id": "ff3f7677-9fdb-43f1-93f4-18f39add473a",
   "metadata": {},
   "outputs": [
    {
     "data": {
      "text/html": [
       "<div>\n",
       "<style scoped>\n",
       "    .dataframe tbody tr th:only-of-type {\n",
       "        vertical-align: middle;\n",
       "    }\n",
       "\n",
       "    .dataframe tbody tr th {\n",
       "        vertical-align: top;\n",
       "    }\n",
       "\n",
       "    .dataframe thead th {\n",
       "        text-align: right;\n",
       "    }\n",
       "</style>\n",
       "<table border=\"1\" class=\"dataframe\">\n",
       "  <thead>\n",
       "    <tr style=\"text-align: right;\">\n",
       "      <th></th>\n",
       "      <th>Review</th>\n",
       "      <th>Rating</th>\n",
       "    </tr>\n",
       "  </thead>\n",
       "  <tbody>\n",
       "    <tr>\n",
       "      <th>0</th>\n",
       "      <td>nice hotel expensive parking got good deal sta...</td>\n",
       "      <td>4</td>\n",
       "    </tr>\n",
       "    <tr>\n",
       "      <th>1</th>\n",
       "      <td>ok nothing special charge diamond member hilto...</td>\n",
       "      <td>2</td>\n",
       "    </tr>\n",
       "    <tr>\n",
       "      <th>2</th>\n",
       "      <td>nice rooms not 4* experience hotel monaco seat...</td>\n",
       "      <td>3</td>\n",
       "    </tr>\n",
       "    <tr>\n",
       "      <th>3</th>\n",
       "      <td>unique, great stay, wonderful time hotel monac...</td>\n",
       "      <td>5</td>\n",
       "    </tr>\n",
       "    <tr>\n",
       "      <th>4</th>\n",
       "      <td>great stay great stay, went seahawk game aweso...</td>\n",
       "      <td>5</td>\n",
       "    </tr>\n",
       "  </tbody>\n",
       "</table>\n",
       "</div>"
      ],
      "text/plain": [
       "                                              Review  Rating\n",
       "0  nice hotel expensive parking got good deal sta...       4\n",
       "1  ok nothing special charge diamond member hilto...       2\n",
       "2  nice rooms not 4* experience hotel monaco seat...       3\n",
       "3  unique, great stay, wonderful time hotel monac...       5\n",
       "4  great stay great stay, went seahawk game aweso...       5"
      ]
     },
     "execution_count": 1,
     "metadata": {},
     "output_type": "execute_result"
    }
   ],
   "source": [
    "import pandas as pd\n",
    "df = pd.read_csv('tripadvisor_hotel_reviews.csv')\n",
    "df.head()"
   ]
  },
  {
   "cell_type": "code",
   "execution_count": 2,
   "id": "946ed14a-0f0a-476d-bdba-884239cb5bc4",
   "metadata": {},
   "outputs": [
    {
     "data": {
      "text/plain": [
       "Review    0\n",
       "Rating    0\n",
       "dtype: int64"
      ]
     },
     "execution_count": 2,
     "metadata": {},
     "output_type": "execute_result"
    }
   ],
   "source": [
    "df.isnull().sum()"
   ]
  },
  {
   "cell_type": "code",
   "execution_count": 3,
   "id": "d0f85396-3d84-4d4a-97bd-cd372dcc36a4",
   "metadata": {},
   "outputs": [
    {
     "data": {
      "text/plain": [
       "(20491, 2)"
      ]
     },
     "execution_count": 3,
     "metadata": {},
     "output_type": "execute_result"
    }
   ],
   "source": [
    "df.shape"
   ]
  },
  {
   "cell_type": "markdown",
   "id": "0b84d7d6-c99f-4cb7-abc4-79ea02e706af",
   "metadata": {},
   "source": [
    "lets say we dont have the 'rating' column only have review col but we want to do sentiment analysis"
   ]
  },
  {
   "cell_type": "code",
   "execution_count": 4,
   "id": "572c0327-61ae-4418-b2ab-459919dc279b",
   "metadata": {},
   "outputs": [
    {
     "data": {
      "text/plain": [
       "'nice hotel expensive parking got good deal stay hotel anniversary, arrived late evening took advice previous reviews did valet parking, check quick easy, little disappointed non-existent view room room clean nice size, bed comfortable woke stiff neck high pillows, not soundproof like heard music room night morning loud bangs doors opening closing hear people talking hallway, maybe just noisy neighbors, aveda bath products nice, did not goldfish stay nice touch taken advantage staying longer, location great walking distance shopping, overall nice experience having pay 40 parking night,  '"
      ]
     },
     "execution_count": 4,
     "metadata": {},
     "output_type": "execute_result"
    }
   ],
   "source": [
    "df.iloc[0][0]   # for first row"
   ]
  },
  {
   "cell_type": "markdown",
   "id": "fba5a54f-2749-4227-97ec-2628f8da9ce9",
   "metadata": {},
   "source": [
    "We don't need to remove punctuations , stopwords because textblob and vader is a powerfull and intelligent library enough to detach punctuations and stopwords"
   ]
  },
  {
   "cell_type": "code",
   "execution_count": 5,
   "id": "8032dabb-8cad-4e5d-9465-462ad19cfa0b",
   "metadata": {},
   "outputs": [],
   "source": [
    "from textblob import TextBlob\n",
    "blob = TextBlob(df.iloc[0][0])  # for 0th index"
   ]
  },
  {
   "cell_type": "code",
   "execution_count": 6,
   "id": "23569851-822a-4620-9104-8e56c0c4a309",
   "metadata": {},
   "outputs": [
    {
     "data": {
      "text/plain": [
       "Sentiment(polarity=0.20874404761904758, subjectivity=0.687)"
      ]
     },
     "execution_count": 6,
     "metadata": {},
     "output_type": "execute_result"
    }
   ],
   "source": [
    "blob.sentiment"
   ]
  },
  {
   "cell_type": "code",
   "execution_count": 7,
   "id": "7748afb1-a541-4520-9bad-543129c85085",
   "metadata": {},
   "outputs": [
    {
     "data": {
      "text/plain": [
       "0.20874404761904758"
      ]
     },
     "execution_count": 7,
     "metadata": {},
     "output_type": "execute_result"
    }
   ],
   "source": [
    "blob.sentiment[0]  # its shows polarity"
   ]
  },
  {
   "cell_type": "code",
   "execution_count": 8,
   "id": "e5b420de-7a0b-4d61-bffa-0f15b02e7eee",
   "metadata": {},
   "outputs": [],
   "source": [
    "sent_list = []\n",
    "for i in range(0,df.shape[0]):\n",
    "    blob = TextBlob(df.iloc[i][0])\n",
    "    polarity_score = blob.sentiment[0]\n",
    "    sent_list.append(polarity_score)"
   ]
  },
  {
   "cell_type": "code",
   "execution_count": 9,
   "id": "2c0c6e7e-a371-4bfc-80b9-fb9896cd7d94",
   "metadata": {},
   "outputs": [
    {
     "data": {
      "text/html": [
       "<div>\n",
       "<style scoped>\n",
       "    .dataframe tbody tr th:only-of-type {\n",
       "        vertical-align: middle;\n",
       "    }\n",
       "\n",
       "    .dataframe tbody tr th {\n",
       "        vertical-align: top;\n",
       "    }\n",
       "\n",
       "    .dataframe thead th {\n",
       "        text-align: right;\n",
       "    }\n",
       "</style>\n",
       "<table border=\"1\" class=\"dataframe\">\n",
       "  <thead>\n",
       "    <tr style=\"text-align: right;\">\n",
       "      <th></th>\n",
       "      <th>Review</th>\n",
       "      <th>Rating</th>\n",
       "      <th>Sentiment_score</th>\n",
       "    </tr>\n",
       "  </thead>\n",
       "  <tbody>\n",
       "    <tr>\n",
       "      <th>0</th>\n",
       "      <td>nice hotel expensive parking got good deal sta...</td>\n",
       "      <td>4</td>\n",
       "      <td>0.208744</td>\n",
       "    </tr>\n",
       "    <tr>\n",
       "      <th>1</th>\n",
       "      <td>ok nothing special charge diamond member hilto...</td>\n",
       "      <td>2</td>\n",
       "      <td>0.214923</td>\n",
       "    </tr>\n",
       "    <tr>\n",
       "      <th>2</th>\n",
       "      <td>nice rooms not 4* experience hotel monaco seat...</td>\n",
       "      <td>3</td>\n",
       "      <td>0.294420</td>\n",
       "    </tr>\n",
       "    <tr>\n",
       "      <th>3</th>\n",
       "      <td>unique, great stay, wonderful time hotel monac...</td>\n",
       "      <td>5</td>\n",
       "      <td>0.504825</td>\n",
       "    </tr>\n",
       "    <tr>\n",
       "      <th>4</th>\n",
       "      <td>great stay great stay, went seahawk game aweso...</td>\n",
       "      <td>5</td>\n",
       "      <td>0.384615</td>\n",
       "    </tr>\n",
       "  </tbody>\n",
       "</table>\n",
       "</div>"
      ],
      "text/plain": [
       "                                              Review  Rating  Sentiment_score\n",
       "0  nice hotel expensive parking got good deal sta...       4         0.208744\n",
       "1  ok nothing special charge diamond member hilto...       2         0.214923\n",
       "2  nice rooms not 4* experience hotel monaco seat...       3         0.294420\n",
       "3  unique, great stay, wonderful time hotel monac...       5         0.504825\n",
       "4  great stay great stay, went seahawk game aweso...       5         0.384615"
      ]
     },
     "execution_count": 9,
     "metadata": {},
     "output_type": "execute_result"
    }
   ],
   "source": [
    "df['Sentiment_score'] = sent_list\n",
    "df.head()  # we added another column in dataframe  last column shows polarity score of each row"
   ]
  },
  {
   "cell_type": "code",
   "execution_count": 10,
   "id": "855d41e6-064e-4486-9ce5-94f7901601fe",
   "metadata": {},
   "outputs": [
    {
     "data": {
      "text/plain": [
       "(1356, 3)"
      ]
     },
     "execution_count": 10,
     "metadata": {},
     "output_type": "execute_result"
    }
   ],
   "source": [
    "df[df['Sentiment_score'] < 0].shape  # count of -ve sentiment "
   ]
  },
  {
   "cell_type": "markdown",
   "id": "c155e93a-bbaf-4c0e-b939-5fd1f9918ed9",
   "metadata": {},
   "source": [
    "It means there are 1356 reviews are negative"
   ]
  },
  {
   "cell_type": "code",
   "execution_count": null,
   "id": "f2e7fee0-8762-467e-988d-560b2c06a89f",
   "metadata": {},
   "outputs": [],
   "source": []
  },
  {
   "cell_type": "markdown",
   "id": "64dcab8e-426e-4095-9a65-f1bfb81cb393",
   "metadata": {},
   "source": [
    "# Vader"
   ]
  },
  {
   "cell_type": "markdown",
   "id": "d3fd33ad-7d0b-4d91-8aa6-6510b76f30bb",
   "metadata": {},
   "source": [
    "The purpose of the vader libary is also same as your textblob , It is a pretrained library used for your sentiment analysis"
   ]
  },
  {
   "cell_type": "code",
   "execution_count": 11,
   "id": "0bdfb0c7-5f53-47cc-b98d-efedc099608a",
   "metadata": {},
   "outputs": [
    {
     "name": "stderr",
     "output_type": "stream",
     "text": [
      "[nltk_data] Downloading package vader_lexicon to\n",
      "[nltk_data]     C:\\Users\\Asus\\AppData\\Roaming\\nltk_data...\n",
      "[nltk_data]   Package vader_lexicon is already up-to-date!\n"
     ]
    },
    {
     "data": {
      "text/plain": [
       "True"
      ]
     },
     "execution_count": 11,
     "metadata": {},
     "output_type": "execute_result"
    }
   ],
   "source": [
    "import nltk\n",
    "from nltk.sentiment.vader import SentimentIntensityAnalyzer\n",
    "nltk.download('vader_lexicon')"
   ]
  },
  {
   "cell_type": "code",
   "execution_count": 12,
   "id": "2bc7b464-60e2-43eb-8bbc-d58dc77e3384",
   "metadata": {},
   "outputs": [
    {
     "data": {
      "text/plain": [
       "{'neg': 0.0, 'neu': 0.616, 'pos': 0.384, 'compound': 0.6808}"
      ]
     },
     "execution_count": 12,
     "metadata": {},
     "output_type": "execute_result"
    }
   ],
   "source": [
    "# checking\n",
    "sent = SentimentIntensityAnalyzer()\n",
    "sent.polarity_scores('cough surup was awesome and i had heavily feeling after having it') "
   ]
  },
  {
   "cell_type": "markdown",
   "id": "0a01fe52-cda7-49c7-9e51-ad70aa1613ca",
   "metadata": {},
   "source": [
    "neg = negative , neu = neutral , pos = positive , compound = overall"
   ]
  },
  {
   "cell_type": "code",
   "execution_count": 16,
   "id": "2cee5551-5ea0-4dde-b8bf-706e9b7b76bf",
   "metadata": {},
   "outputs": [
    {
     "data": {
      "text/plain": [
       "0.9747"
      ]
     },
     "execution_count": 16,
     "metadata": {},
     "output_type": "execute_result"
    }
   ],
   "source": [
    "sent.polarity_scores(df.iloc[0][0])['compound']"
   ]
  },
  {
   "cell_type": "code",
   "execution_count": 18,
   "id": "81daeb6f-4767-4309-8470-fd36cd957347",
   "metadata": {},
   "outputs": [
    {
     "data": {
      "text/plain": [
       "20491"
      ]
     },
     "execution_count": 18,
     "metadata": {},
     "output_type": "execute_result"
    }
   ],
   "source": [
    "compound_list =[] # I want only compound values of all reviews\n",
    "for i in range(0 , df.shape[0]):\n",
    "    score = sent.polarity_scores(df.iloc[i][0])\n",
    "    sent_score = score['compound']\n",
    "    compound_list.append(sent_score)\n",
    "len(compound_list)"
   ]
  },
  {
   "cell_type": "code",
   "execution_count": 19,
   "id": "1e95fc36-2ab3-4306-863a-e74479b704ca",
   "metadata": {},
   "outputs": [],
   "source": [
    "df['Score_vader'] = compound_list # putting into dataframe"
   ]
  },
  {
   "cell_type": "code",
   "execution_count": 20,
   "id": "70df19fa-a3d0-4138-a120-86a7fceb7f69",
   "metadata": {},
   "outputs": [
    {
     "data": {
      "text/html": [
       "<div>\n",
       "<style scoped>\n",
       "    .dataframe tbody tr th:only-of-type {\n",
       "        vertical-align: middle;\n",
       "    }\n",
       "\n",
       "    .dataframe tbody tr th {\n",
       "        vertical-align: top;\n",
       "    }\n",
       "\n",
       "    .dataframe thead th {\n",
       "        text-align: right;\n",
       "    }\n",
       "</style>\n",
       "<table border=\"1\" class=\"dataframe\">\n",
       "  <thead>\n",
       "    <tr style=\"text-align: right;\">\n",
       "      <th></th>\n",
       "      <th>Review</th>\n",
       "      <th>Rating</th>\n",
       "      <th>Sentiment_score</th>\n",
       "      <th>Score_vader</th>\n",
       "    </tr>\n",
       "  </thead>\n",
       "  <tbody>\n",
       "    <tr>\n",
       "      <th>0</th>\n",
       "      <td>nice hotel expensive parking got good deal sta...</td>\n",
       "      <td>4</td>\n",
       "      <td>0.208744</td>\n",
       "      <td>0.9747</td>\n",
       "    </tr>\n",
       "    <tr>\n",
       "      <th>1</th>\n",
       "      <td>ok nothing special charge diamond member hilto...</td>\n",
       "      <td>2</td>\n",
       "      <td>0.214923</td>\n",
       "      <td>0.9787</td>\n",
       "    </tr>\n",
       "    <tr>\n",
       "      <th>2</th>\n",
       "      <td>nice rooms not 4* experience hotel monaco seat...</td>\n",
       "      <td>3</td>\n",
       "      <td>0.294420</td>\n",
       "      <td>0.9889</td>\n",
       "    </tr>\n",
       "    <tr>\n",
       "      <th>3</th>\n",
       "      <td>unique, great stay, wonderful time hotel monac...</td>\n",
       "      <td>5</td>\n",
       "      <td>0.504825</td>\n",
       "      <td>0.9912</td>\n",
       "    </tr>\n",
       "    <tr>\n",
       "      <th>4</th>\n",
       "      <td>great stay great stay, went seahawk game aweso...</td>\n",
       "      <td>5</td>\n",
       "      <td>0.384615</td>\n",
       "      <td>0.9797</td>\n",
       "    </tr>\n",
       "  </tbody>\n",
       "</table>\n",
       "</div>"
      ],
      "text/plain": [
       "                                              Review  Rating  Sentiment_score  \\\n",
       "0  nice hotel expensive parking got good deal sta...       4         0.208744   \n",
       "1  ok nothing special charge diamond member hilto...       2         0.214923   \n",
       "2  nice rooms not 4* experience hotel monaco seat...       3         0.294420   \n",
       "3  unique, great stay, wonderful time hotel monac...       5         0.504825   \n",
       "4  great stay great stay, went seahawk game aweso...       5         0.384615   \n",
       "\n",
       "   Score_vader  \n",
       "0       0.9747  \n",
       "1       0.9787  \n",
       "2       0.9889  \n",
       "3       0.9912  \n",
       "4       0.9797  "
      ]
     },
     "execution_count": 20,
     "metadata": {},
     "output_type": "execute_result"
    }
   ],
   "source": [
    "df.head()"
   ]
  },
  {
   "cell_type": "code",
   "execution_count": null,
   "id": "80542f4c-bea4-49e0-b7e3-136ae4fb4f7f",
   "metadata": {},
   "outputs": [],
   "source": []
  },
  {
   "cell_type": "code",
   "execution_count": null,
   "id": "e5148882-c21d-4907-b887-78d4605c6ee9",
   "metadata": {},
   "outputs": [],
   "source": []
  },
  {
   "cell_type": "code",
   "execution_count": null,
   "id": "357e4f91-8e04-462c-b564-55977b091888",
   "metadata": {},
   "outputs": [],
   "source": []
  }
 ],
 "metadata": {
  "kernelspec": {
   "display_name": "Python 3 (ipykernel)",
   "language": "python",
   "name": "python3"
  },
  "language_info": {
   "codemirror_mode": {
    "name": "ipython",
    "version": 3
   },
   "file_extension": ".py",
   "mimetype": "text/x-python",
   "name": "python",
   "nbconvert_exporter": "python",
   "pygments_lexer": "ipython3",
   "version": "3.9.12"
  }
 },
 "nbformat": 4,
 "nbformat_minor": 5
}
